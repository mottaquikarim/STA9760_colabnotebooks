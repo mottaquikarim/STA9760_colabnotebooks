{
  "nbformat": 4,
  "nbformat_minor": 0,
  "metadata": {
    "colab": {
      "name": "STA9760_introduction.ipynb",
      "provenance": [],
      "collapsed_sections": [],
      "authorship_tag": "ABX9TyPppN/bDxZI84bq/xFNtTnu",
      "include_colab_link": true
    },
    "kernelspec": {
      "name": "python3",
      "display_name": "Python 3"
    }
  },
  "cells": [
    {
      "cell_type": "markdown",
      "metadata": {
        "id": "view-in-github",
        "colab_type": "text"
      },
      "source": [
        "<a href=\"https://colab.research.google.com/github/mottaquikarim/STA9760_colabnotebooks/blob/master/STA9760_introduction.ipynb\" target=\"_parent\"><img src=\"https://colab.research.google.com/assets/colab-badge.svg\" alt=\"Open In Colab\"/></a>"
      ]
    },
    {
      "cell_type": "markdown",
      "metadata": {
        "id": "rwDRFnHL1z-s",
        "colab_type": "text"
      },
      "source": [
        "# Simple Implementation of Requests Module\n",
        "\n",
        "In the code example below, we will run and display output data from an API call to Github."
      ]
    },
    {
      "cell_type": "code",
      "metadata": {
        "id": "VxFL-Qmn1iX8",
        "colab_type": "code",
        "colab": {}
      },
      "source": [
        "import requests\n",
        "\n",
        "# this is a \"get\" request - try pasting into your browser URL\n",
        "r = requests.get('https://api.github.com/users/mottaquikarim')"
      ],
      "execution_count": 0,
      "outputs": []
    },
    {
      "cell_type": "markdown",
      "metadata": {
        "id": "aIAvUOzb2H82",
        "colab_type": "text"
      },
      "source": [
        "## This is the status code, 200 means \"successful\""
      ]
    },
    {
      "cell_type": "code",
      "metadata": {
        "id": "L8CTx5cs2FaH",
        "colab_type": "code",
        "outputId": "4a5d3be8-8eec-4e8d-d24b-06f04f63ba83",
        "colab": {
          "base_uri": "https://localhost:8080/",
          "height": 33
        }
      },
      "source": [
        "r.status_code"
      ],
      "execution_count": 0,
      "outputs": [
        {
          "output_type": "execute_result",
          "data": {
            "text/plain": [
              "200"
            ]
          },
          "metadata": {
            "tags": []
          },
          "execution_count": 4
        }
      ]
    },
    {
      "cell_type": "markdown",
      "metadata": {
        "id": "Ae28p9es2Uyj",
        "colab_type": "text"
      },
      "source": [
        "## This is a hint for what type of content we expect to get back.\n",
        "\n",
        "(application/json implies it is encoded as a data structure)"
      ]
    },
    {
      "cell_type": "code",
      "metadata": {
        "id": "-4YcYvJC2cI_",
        "colab_type": "code",
        "outputId": "058cba0f-6849-43b0-f2af-0e86ddddde3d",
        "colab": {
          "base_uri": "https://localhost:8080/",
          "height": 33
        }
      },
      "source": [
        "r.headers['content-type']"
      ],
      "execution_count": 0,
      "outputs": [
        {
          "output_type": "execute_result",
          "data": {
            "text/plain": [
              "'application/json; charset=utf-8'"
            ]
          },
          "metadata": {
            "tags": []
          },
          "execution_count": 5
        }
      ]
    },
    {
      "cell_type": "markdown",
      "metadata": {
        "id": "xudQ5al42fo8",
        "colab_type": "text"
      },
      "source": [
        "## The actual response"
      ]
    },
    {
      "cell_type": "code",
      "metadata": {
        "id": "LOMtRNu02f1C",
        "colab_type": "code",
        "outputId": "d7870267-aa16-47c3-bc2c-e9239c38f2ec",
        "colab": {
          "base_uri": "https://localhost:8080/",
          "height": 521
        }
      },
      "source": [
        "r.json()"
      ],
      "execution_count": 0,
      "outputs": [
        {
          "output_type": "execute_result",
          "data": {
            "text/plain": [
              "{'avatar_url': 'https://avatars1.githubusercontent.com/u/3136020?v=4',\n",
              " 'bio': '\"See a Need, Fill a Need!\" -- in a nutshell, really.',\n",
              " 'blog': 'http://mottaquikar.im/',\n",
              " 'company': 'IxN, GA, TKC',\n",
              " 'created_at': '2012-12-27T17:58:26Z',\n",
              " 'email': None,\n",
              " 'events_url': 'https://api.github.com/users/mottaquikarim/events{/privacy}',\n",
              " 'followers': 129,\n",
              " 'followers_url': 'https://api.github.com/users/mottaquikarim/followers',\n",
              " 'following': 16,\n",
              " 'following_url': 'https://api.github.com/users/mottaquikarim/following{/other_user}',\n",
              " 'gists_url': 'https://api.github.com/users/mottaquikarim/gists{/gist_id}',\n",
              " 'gravatar_id': '',\n",
              " 'hireable': None,\n",
              " 'html_url': 'https://github.com/mottaquikarim',\n",
              " 'id': 3136020,\n",
              " 'location': 'NYC',\n",
              " 'login': 'mottaquikarim',\n",
              " 'name': 'Mottaqui Karim',\n",
              " 'node_id': 'MDQ6VXNlcjMxMzYwMjA=',\n",
              " 'organizations_url': 'https://api.github.com/users/mottaquikarim/orgs',\n",
              " 'public_gists': 19,\n",
              " 'public_repos': 290,\n",
              " 'received_events_url': 'https://api.github.com/users/mottaquikarim/received_events',\n",
              " 'repos_url': 'https://api.github.com/users/mottaquikarim/repos',\n",
              " 'site_admin': False,\n",
              " 'starred_url': 'https://api.github.com/users/mottaquikarim/starred{/owner}{/repo}',\n",
              " 'subscriptions_url': 'https://api.github.com/users/mottaquikarim/subscriptions',\n",
              " 'type': 'User',\n",
              " 'updated_at': '2020-03-29T15:03:51Z',\n",
              " 'url': 'https://api.github.com/users/mottaquikarim'}"
            ]
          },
          "metadata": {
            "tags": []
          },
          "execution_count": 6
        }
      ]
    }
  ]
}